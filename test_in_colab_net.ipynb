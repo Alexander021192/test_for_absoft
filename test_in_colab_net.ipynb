{
  "nbformat": 4,
  "nbformat_minor": 0,
  "metadata": {
    "colab": {
      "name": "test_net.ipynb",
      "provenance": [],
      "collapsed_sections": []
    },
    "kernelspec": {
      "name": "python3",
      "display_name": "Python 3"
    }
  },
  "cells": [
    {
      "cell_type": "code",
      "metadata": {
        "id": "wZ3_xzgzfCin"
      },
      "source": [
        "import pandas as pd\n",
        "new_data = pd.read_csv('new_train.csv')"
      ],
      "execution_count": 1,
      "outputs": []
    },
    {
      "cell_type": "code",
      "metadata": {
        "id": "CMs1CJdehFn1"
      },
      "source": [
        "new_data.drop(new_data.columns[0], axis = 'columns', inplace = True)"
      ],
      "execution_count": 2,
      "outputs": []
    },
    {
      "cell_type": "code",
      "metadata": {
        "id": "qIbAwqR6jwMH",
        "outputId": "18778a3e-5503-4344-e1dd-6def42444d7e",
        "colab": {
          "base_uri": "https://localhost:8080/",
          "height": 221
        }
      },
      "source": [
        "new_data.group_bugs.astype(int)"
      ],
      "execution_count": 3,
      "outputs": [
        {
          "output_type": "execute_result",
          "data": {
            "text/plain": [
              "0      1\n",
              "1      1\n",
              "2      1\n",
              "3      1\n",
              "4      2\n",
              "      ..\n",
              "314    0\n",
              "315    0\n",
              "316    1\n",
              "317    0\n",
              "318    0\n",
              "Name: group_bugs, Length: 319, dtype: int64"
            ]
          },
          "metadata": {
            "tags": []
          },
          "execution_count": 3
        }
      ]
    },
    {
      "cell_type": "code",
      "metadata": {
        "id": "hxg1UXwofUml"
      },
      "source": [
        "from sklearn.model_selection import train_test_split\n",
        "\n",
        "# разделим данные на тренировочные и валидационные\n",
        "targets = new_data.group_bugs.values\n",
        "data = new_data.drop(['bugs', 'group_bugs'], axis = 1).values\n",
        "# нормализация данных (потом попробуем без неё)\n",
        "data_norm = (data - data.min()) / (data.max() - data.min())\n",
        "#data_train, data_test,  targets_train, targets_test = train_test_split(data, targets, test_size=0.3, random_state=17)\n",
        "data_train, data_test,  targets_train, targets_test = train_test_split(data_norm, targets, test_size=0.3, random_state=17)"
      ],
      "execution_count": 4,
      "outputs": []
    },
    {
      "cell_type": "code",
      "metadata": {
        "id": "Ez1T40eIoR4x",
        "outputId": "6bbdcbdf-7dc1-4c62-8d00-2c39414706f5",
        "colab": {
          "base_uri": "https://localhost:8080/",
          "height": 34
        }
      },
      "source": [
        "print(f\"Train shape: {data_train.shape}, Test shape: {data_test.shape}\")"
      ],
      "execution_count": 5,
      "outputs": [
        {
          "output_type": "stream",
          "text": [
            "Train shape: (223, 8), Test shape: (96, 8)\n"
          ],
          "name": "stdout"
        }
      ]
    },
    {
      "cell_type": "code",
      "metadata": {
        "id": "mEJoD-WygWg4",
        "outputId": "9b6e9acb-b828-436d-8c92-6b0e33b86469",
        "colab": {
          "base_uri": "https://localhost:8080/",
          "height": 34
        }
      },
      "source": [
        "import tensorflow as tf\n",
        "import numpy as np\n",
        "print(tf.__version__)"
      ],
      "execution_count": 6,
      "outputs": [
        {
          "output_type": "stream",
          "text": [
            "2.3.0\n"
          ],
          "name": "stdout"
        }
      ]
    },
    {
      "cell_type": "code",
      "metadata": {
        "id": "c4m3shmdpBiK",
        "outputId": "4a2932b9-e835-43fa-b6df-687799b377ba",
        "colab": {
          "base_uri": "https://localhost:8080/",
          "height": 204
        }
      },
      "source": [
        "targets_train\n"
      ],
      "execution_count": 7,
      "outputs": [
        {
          "output_type": "execute_result",
          "data": {
            "text/plain": [
              "array([1, 1, 1, 0, 1, 0, 3, 0, 0, 1, 1, 0, 1, 1, 1, 0, 1, 1, 0, 0, 1, 2,\n",
              "       1, 1, 1, 0, 0, 0, 0, 0, 1, 1, 1, 1, 1, 0, 1, 2, 2, 0, 0, 1, 0, 0,\n",
              "       0, 0, 2, 2, 1, 1, 1, 0, 1, 1, 0, 1, 1, 1, 0, 0, 1, 1, 1, 1, 0, 1,\n",
              "       0, 1, 0, 0, 0, 1, 0, 0, 1, 1, 0, 1, 1, 1, 1, 1, 1, 0, 0, 0, 0, 1,\n",
              "       1, 1, 0, 1, 0, 3, 0, 1, 0, 1, 0, 0, 0, 2, 1, 1, 1, 0, 1, 1, 1, 0,\n",
              "       1, 1, 0, 1, 2, 0, 1, 1, 1, 0, 1, 0, 0, 0, 1, 1, 0, 0, 1, 1, 0, 1,\n",
              "       0, 0, 0, 0, 0, 1, 0, 1, 0, 1, 1, 1, 0, 0, 1, 2, 0, 1, 0, 1, 1, 2,\n",
              "       0, 0, 1, 1, 0, 3, 1, 1, 2, 1, 1, 0, 0, 0, 1, 1, 3, 0, 0, 0, 0, 1,\n",
              "       3, 0, 0, 1, 0, 2, 1, 1, 1, 1, 1, 0, 1, 0, 2, 0, 0, 0, 1, 1, 2, 1,\n",
              "       1, 2, 0, 1, 0, 2, 0, 0, 0, 0, 0, 0, 0, 0, 0, 0, 1, 2, 2, 0, 0, 0,\n",
              "       0, 0, 0])"
            ]
          },
          "metadata": {
            "tags": []
          },
          "execution_count": 7
        }
      ]
    },
    {
      "cell_type": "code",
      "metadata": {
        "id": "PtGGy3iziGa8"
      },
      "source": [
        "model = tf.keras.Sequential()\n",
        "\n",
        "model.add(tf.keras.layers.Dense(14, input_dim=8, activation='relu'))\n",
        "model.add(tf.keras.layers.Dense(28, activation='relu'))\n",
        "model.add(tf.keras.layers.Dense(28, activation='relu'))\n",
        "model.add(tf.keras.layers.Dense(56, activation='relu'))\n",
        "model.add(tf.keras.layers.Dropout(0.5))\n",
        "model.add(tf.keras.layers.Dense(4, activation='softmax'))\n"
      ],
      "execution_count": 18,
      "outputs": []
    },
    {
      "cell_type": "code",
      "metadata": {
        "id": "4WBHab-YnN-S",
        "outputId": "7bda91c4-5fff-42ca-eea9-8c31e5b15074",
        "colab": {
          "base_uri": "https://localhost:8080/",
          "height": 357
        }
      },
      "source": [
        "model.summary()\n",
        "#tf.keras.utils.plot_model(model, show_shapes=False)"
      ],
      "execution_count": 19,
      "outputs": [
        {
          "output_type": "stream",
          "text": [
            "Model: \"sequential_3\"\n",
            "_________________________________________________________________\n",
            "Layer (type)                 Output Shape              Param #   \n",
            "=================================================================\n",
            "dense_10 (Dense)             (None, 14)                126       \n",
            "_________________________________________________________________\n",
            "dense_11 (Dense)             (None, 28)                420       \n",
            "_________________________________________________________________\n",
            "dense_12 (Dense)             (None, 28)                812       \n",
            "_________________________________________________________________\n",
            "dense_13 (Dense)             (None, 56)                1624      \n",
            "_________________________________________________________________\n",
            "dropout_3 (Dropout)          (None, 56)                0         \n",
            "_________________________________________________________________\n",
            "dense_14 (Dense)             (None, 4)                 228       \n",
            "=================================================================\n",
            "Total params: 3,210\n",
            "Trainable params: 3,210\n",
            "Non-trainable params: 0\n",
            "_________________________________________________________________\n"
          ],
          "name": "stdout"
        }
      ]
    },
    {
      "cell_type": "code",
      "metadata": {
        "id": "ONCVPTKUncA6",
        "outputId": "eb8f575a-ddff-4155-dd4e-01a4498e9eb0",
        "colab": {
          "base_uri": "https://localhost:8080/",
          "height": 1000
        }
      },
      "source": [
        "optimizer = tf.keras.optimizers.Adam(learning_rate=0.001)\n",
        "model.compile(optimizer= optimizer,\n",
        "              loss=tf.keras.losses.SparseCategoricalCrossentropy(),\n",
        "              metrics=['accuracy'])\n",
        "\n",
        "model.fit(data_train, targets_train, validation_data=(data_test, targets_test), epochs=100, verbose=1)"
      ],
      "execution_count": 20,
      "outputs": [
        {
          "output_type": "stream",
          "text": [
            "Epoch 1/100\n",
            "7/7 [==============================] - 0s 34ms/step - loss: 1.3763 - accuracy: 0.3587 - val_loss: 1.3549 - val_accuracy: 0.4896\n",
            "Epoch 2/100\n",
            "7/7 [==============================] - 0s 8ms/step - loss: 1.3494 - accuracy: 0.4260 - val_loss: 1.3250 - val_accuracy: 0.4896\n",
            "Epoch 3/100\n",
            "7/7 [==============================] - 0s 7ms/step - loss: 1.3199 - accuracy: 0.4843 - val_loss: 1.2893 - val_accuracy: 0.4896\n",
            "Epoch 4/100\n",
            "7/7 [==============================] - 0s 7ms/step - loss: 1.2823 - accuracy: 0.4215 - val_loss: 1.2464 - val_accuracy: 0.4896\n",
            "Epoch 5/100\n",
            "7/7 [==============================] - 0s 8ms/step - loss: 1.2508 - accuracy: 0.4215 - val_loss: 1.1962 - val_accuracy: 0.4896\n",
            "Epoch 6/100\n",
            "7/7 [==============================] - 0s 8ms/step - loss: 1.2161 - accuracy: 0.4260 - val_loss: 1.1410 - val_accuracy: 0.4896\n",
            "Epoch 7/100\n",
            "7/7 [==============================] - 0s 7ms/step - loss: 1.1706 - accuracy: 0.4978 - val_loss: 1.0844 - val_accuracy: 0.4896\n",
            "Epoch 8/100\n",
            "7/7 [==============================] - 0s 7ms/step - loss: 1.1404 - accuracy: 0.4843 - val_loss: 1.0318 - val_accuracy: 0.4896\n",
            "Epoch 9/100\n",
            "7/7 [==============================] - 0s 8ms/step - loss: 1.1225 - accuracy: 0.4260 - val_loss: 0.9917 - val_accuracy: 0.4896\n",
            "Epoch 10/100\n",
            "7/7 [==============================] - 0s 7ms/step - loss: 1.0794 - accuracy: 0.4753 - val_loss: 0.9625 - val_accuracy: 0.4896\n",
            "Epoch 11/100\n",
            "7/7 [==============================] - 0s 6ms/step - loss: 1.0883 - accuracy: 0.3991 - val_loss: 0.9439 - val_accuracy: 0.4896\n",
            "Epoch 12/100\n",
            "7/7 [==============================] - 0s 6ms/step - loss: 1.0432 - accuracy: 0.4753 - val_loss: 0.9323 - val_accuracy: 0.4896\n",
            "Epoch 13/100\n",
            "7/7 [==============================] - 0s 6ms/step - loss: 1.0304 - accuracy: 0.4664 - val_loss: 0.9247 - val_accuracy: 0.4896\n",
            "Epoch 14/100\n",
            "7/7 [==============================] - 0s 6ms/step - loss: 1.0701 - accuracy: 0.4305 - val_loss: 0.9215 - val_accuracy: 0.4896\n",
            "Epoch 15/100\n",
            "7/7 [==============================] - 0s 8ms/step - loss: 1.0677 - accuracy: 0.4305 - val_loss: 0.9240 - val_accuracy: 0.4896\n",
            "Epoch 16/100\n",
            "7/7 [==============================] - 0s 9ms/step - loss: 1.0359 - accuracy: 0.4574 - val_loss: 0.9237 - val_accuracy: 0.4896\n",
            "Epoch 17/100\n",
            "7/7 [==============================] - 0s 15ms/step - loss: 1.0256 - accuracy: 0.4664 - val_loss: 0.9230 - val_accuracy: 0.4896\n",
            "Epoch 18/100\n",
            "7/7 [==============================] - 0s 9ms/step - loss: 1.0340 - accuracy: 0.4664 - val_loss: 0.9198 - val_accuracy: 0.4896\n",
            "Epoch 19/100\n",
            "7/7 [==============================] - 0s 9ms/step - loss: 1.0922 - accuracy: 0.4081 - val_loss: 0.9186 - val_accuracy: 0.4896\n",
            "Epoch 20/100\n",
            "7/7 [==============================] - 0s 11ms/step - loss: 1.0379 - accuracy: 0.4574 - val_loss: 0.9188 - val_accuracy: 0.4896\n",
            "Epoch 21/100\n",
            "7/7 [==============================] - 0s 11ms/step - loss: 1.0440 - accuracy: 0.4709 - val_loss: 0.9194 - val_accuracy: 0.4896\n",
            "Epoch 22/100\n",
            "7/7 [==============================] - 0s 18ms/step - loss: 1.0579 - accuracy: 0.4036 - val_loss: 0.9189 - val_accuracy: 0.4896\n",
            "Epoch 23/100\n",
            "7/7 [==============================] - 0s 13ms/step - loss: 1.0713 - accuracy: 0.3767 - val_loss: 0.9192 - val_accuracy: 0.4896\n",
            "Epoch 24/100\n",
            "7/7 [==============================] - 0s 12ms/step - loss: 1.0449 - accuracy: 0.4574 - val_loss: 0.9212 - val_accuracy: 0.4896\n",
            "Epoch 25/100\n",
            "7/7 [==============================] - 0s 22ms/step - loss: 1.0308 - accuracy: 0.4439 - val_loss: 0.9181 - val_accuracy: 0.4896\n",
            "Epoch 26/100\n",
            "7/7 [==============================] - 0s 17ms/step - loss: 1.0355 - accuracy: 0.4484 - val_loss: 0.9151 - val_accuracy: 0.4896\n",
            "Epoch 27/100\n",
            "7/7 [==============================] - 0s 18ms/step - loss: 1.0626 - accuracy: 0.4170 - val_loss: 0.9179 - val_accuracy: 0.4896\n",
            "Epoch 28/100\n",
            "7/7 [==============================] - 0s 14ms/step - loss: 1.0330 - accuracy: 0.4619 - val_loss: 0.9166 - val_accuracy: 0.4896\n",
            "Epoch 29/100\n",
            "7/7 [==============================] - 0s 14ms/step - loss: 1.0287 - accuracy: 0.4843 - val_loss: 0.9123 - val_accuracy: 0.4896\n",
            "Epoch 30/100\n",
            "7/7 [==============================] - 0s 14ms/step - loss: 1.0549 - accuracy: 0.4933 - val_loss: 0.9102 - val_accuracy: 0.4896\n",
            "Epoch 31/100\n",
            "7/7 [==============================] - 0s 17ms/step - loss: 1.0149 - accuracy: 0.4753 - val_loss: 0.9086 - val_accuracy: 0.4896\n",
            "Epoch 32/100\n",
            "7/7 [==============================] - 0s 21ms/step - loss: 1.0309 - accuracy: 0.4529 - val_loss: 0.9077 - val_accuracy: 0.4896\n",
            "Epoch 33/100\n",
            "7/7 [==============================] - 0s 17ms/step - loss: 1.0322 - accuracy: 0.4619 - val_loss: 0.9063 - val_accuracy: 0.4896\n",
            "Epoch 34/100\n",
            "7/7 [==============================] - 0s 23ms/step - loss: 1.0474 - accuracy: 0.4484 - val_loss: 0.9065 - val_accuracy: 0.4896\n",
            "Epoch 35/100\n",
            "7/7 [==============================] - 0s 17ms/step - loss: 1.0331 - accuracy: 0.4574 - val_loss: 0.9074 - val_accuracy: 0.4896\n",
            "Epoch 36/100\n",
            "7/7 [==============================] - 0s 13ms/step - loss: 1.0304 - accuracy: 0.4843 - val_loss: 0.9058 - val_accuracy: 0.4896\n",
            "Epoch 37/100\n",
            "7/7 [==============================] - 0s 11ms/step - loss: 1.0388 - accuracy: 0.4619 - val_loss: 0.9081 - val_accuracy: 0.4896\n",
            "Epoch 38/100\n",
            "7/7 [==============================] - 0s 11ms/step - loss: 1.0027 - accuracy: 0.4933 - val_loss: 0.9060 - val_accuracy: 0.4896\n",
            "Epoch 39/100\n",
            "7/7 [==============================] - 0s 13ms/step - loss: 1.0661 - accuracy: 0.3991 - val_loss: 0.9086 - val_accuracy: 0.4896\n",
            "Epoch 40/100\n",
            "7/7 [==============================] - 0s 10ms/step - loss: 1.0174 - accuracy: 0.4798 - val_loss: 0.9092 - val_accuracy: 0.4896\n",
            "Epoch 41/100\n",
            "7/7 [==============================] - 0s 17ms/step - loss: 1.0223 - accuracy: 0.4350 - val_loss: 0.9053 - val_accuracy: 0.4896\n",
            "Epoch 42/100\n",
            "7/7 [==============================] - 0s 10ms/step - loss: 1.0321 - accuracy: 0.4574 - val_loss: 0.9042 - val_accuracy: 0.4792\n",
            "Epoch 43/100\n",
            "7/7 [==============================] - 0s 12ms/step - loss: 1.0188 - accuracy: 0.4215 - val_loss: 0.9016 - val_accuracy: 0.4792\n",
            "Epoch 44/100\n",
            "7/7 [==============================] - 0s 12ms/step - loss: 1.0368 - accuracy: 0.4126 - val_loss: 0.9025 - val_accuracy: 0.4792\n",
            "Epoch 45/100\n",
            "7/7 [==============================] - 0s 9ms/step - loss: 1.0033 - accuracy: 0.5067 - val_loss: 0.9008 - val_accuracy: 0.4896\n",
            "Epoch 46/100\n",
            "7/7 [==============================] - 0s 9ms/step - loss: 1.0093 - accuracy: 0.4664 - val_loss: 0.9003 - val_accuracy: 0.4896\n",
            "Epoch 47/100\n",
            "7/7 [==============================] - 0s 12ms/step - loss: 1.0257 - accuracy: 0.4619 - val_loss: 0.9004 - val_accuracy: 0.4896\n",
            "Epoch 48/100\n",
            "7/7 [==============================] - 0s 8ms/step - loss: 1.0351 - accuracy: 0.4350 - val_loss: 0.9031 - val_accuracy: 0.4896\n",
            "Epoch 49/100\n",
            "7/7 [==============================] - 0s 14ms/step - loss: 1.0302 - accuracy: 0.4260 - val_loss: 0.9030 - val_accuracy: 0.4896\n",
            "Epoch 50/100\n",
            "7/7 [==============================] - 0s 16ms/step - loss: 1.0538 - accuracy: 0.4081 - val_loss: 0.9057 - val_accuracy: 0.4896\n",
            "Epoch 51/100\n",
            "7/7 [==============================] - 0s 13ms/step - loss: 1.0533 - accuracy: 0.3498 - val_loss: 0.9080 - val_accuracy: 0.4688\n",
            "Epoch 52/100\n",
            "7/7 [==============================] - 0s 14ms/step - loss: 1.0403 - accuracy: 0.4170 - val_loss: 0.9111 - val_accuracy: 0.5625\n",
            "Epoch 53/100\n",
            "7/7 [==============================] - 0s 21ms/step - loss: 1.0250 - accuracy: 0.5067 - val_loss: 0.9120 - val_accuracy: 0.4479\n",
            "Epoch 54/100\n",
            "7/7 [==============================] - 0s 24ms/step - loss: 1.0021 - accuracy: 0.4753 - val_loss: 0.9085 - val_accuracy: 0.5104\n",
            "Epoch 55/100\n",
            "7/7 [==============================] - 0s 10ms/step - loss: 1.0314 - accuracy: 0.5112 - val_loss: 0.9048 - val_accuracy: 0.4479\n",
            "Epoch 56/100\n",
            "7/7 [==============================] - 0s 9ms/step - loss: 1.0216 - accuracy: 0.4395 - val_loss: 0.9018 - val_accuracy: 0.5000\n",
            "Epoch 57/100\n",
            "7/7 [==============================] - 0s 11ms/step - loss: 1.0265 - accuracy: 0.4619 - val_loss: 0.8997 - val_accuracy: 0.5312\n",
            "Epoch 58/100\n",
            "7/7 [==============================] - 0s 9ms/step - loss: 1.0060 - accuracy: 0.4260 - val_loss: 0.8975 - val_accuracy: 0.4896\n",
            "Epoch 59/100\n",
            "7/7 [==============================] - 0s 12ms/step - loss: 1.0168 - accuracy: 0.4753 - val_loss: 0.8949 - val_accuracy: 0.4896\n",
            "Epoch 60/100\n",
            "7/7 [==============================] - 0s 8ms/step - loss: 1.0118 - accuracy: 0.4709 - val_loss: 0.8976 - val_accuracy: 0.4896\n",
            "Epoch 61/100\n",
            "7/7 [==============================] - 0s 8ms/step - loss: 1.0233 - accuracy: 0.3857 - val_loss: 0.8991 - val_accuracy: 0.4896\n",
            "Epoch 62/100\n",
            "7/7 [==============================] - 0s 9ms/step - loss: 1.0409 - accuracy: 0.4484 - val_loss: 0.9007 - val_accuracy: 0.4896\n",
            "Epoch 63/100\n",
            "7/7 [==============================] - 0s 9ms/step - loss: 1.0293 - accuracy: 0.4439 - val_loss: 0.9014 - val_accuracy: 0.4896\n",
            "Epoch 64/100\n",
            "7/7 [==============================] - 0s 10ms/step - loss: 1.0062 - accuracy: 0.4753 - val_loss: 0.9008 - val_accuracy: 0.4896\n",
            "Epoch 65/100\n",
            "7/7 [==============================] - 0s 10ms/step - loss: 1.0087 - accuracy: 0.4664 - val_loss: 0.8992 - val_accuracy: 0.4896\n",
            "Epoch 66/100\n",
            "7/7 [==============================] - 0s 14ms/step - loss: 1.0240 - accuracy: 0.4170 - val_loss: 0.9015 - val_accuracy: 0.4896\n",
            "Epoch 67/100\n",
            "7/7 [==============================] - 0s 16ms/step - loss: 1.0376 - accuracy: 0.4260 - val_loss: 0.8987 - val_accuracy: 0.4896\n",
            "Epoch 68/100\n",
            "7/7 [==============================] - 0s 26ms/step - loss: 1.0129 - accuracy: 0.4574 - val_loss: 0.8993 - val_accuracy: 0.4896\n",
            "Epoch 69/100\n",
            "7/7 [==============================] - 0s 24ms/step - loss: 1.0210 - accuracy: 0.4709 - val_loss: 0.9001 - val_accuracy: 0.4896\n",
            "Epoch 70/100\n",
            "7/7 [==============================] - 0s 23ms/step - loss: 1.0105 - accuracy: 0.4439 - val_loss: 0.8976 - val_accuracy: 0.4896\n",
            "Epoch 71/100\n",
            "7/7 [==============================] - 0s 25ms/step - loss: 1.0324 - accuracy: 0.4529 - val_loss: 0.8973 - val_accuracy: 0.4896\n",
            "Epoch 72/100\n",
            "7/7 [==============================] - 0s 31ms/step - loss: 1.0348 - accuracy: 0.3991 - val_loss: 0.8998 - val_accuracy: 0.4896\n",
            "Epoch 73/100\n",
            "7/7 [==============================] - 0s 25ms/step - loss: 1.0177 - accuracy: 0.4529 - val_loss: 0.9005 - val_accuracy: 0.4896\n",
            "Epoch 74/100\n",
            "7/7 [==============================] - 0s 15ms/step - loss: 1.0200 - accuracy: 0.4215 - val_loss: 0.8994 - val_accuracy: 0.4896\n",
            "Epoch 75/100\n",
            "7/7 [==============================] - 0s 33ms/step - loss: 1.0068 - accuracy: 0.4664 - val_loss: 0.8982 - val_accuracy: 0.4896\n",
            "Epoch 76/100\n",
            "7/7 [==============================] - 0s 21ms/step - loss: 1.0253 - accuracy: 0.4395 - val_loss: 0.8987 - val_accuracy: 0.4896\n",
            "Epoch 77/100\n",
            "7/7 [==============================] - 0s 24ms/step - loss: 1.0060 - accuracy: 0.4933 - val_loss: 0.8959 - val_accuracy: 0.4896\n",
            "Epoch 78/100\n",
            "7/7 [==============================] - 0s 24ms/step - loss: 1.0206 - accuracy: 0.4350 - val_loss: 0.8956 - val_accuracy: 0.4896\n",
            "Epoch 79/100\n",
            "7/7 [==============================] - 0s 22ms/step - loss: 1.0306 - accuracy: 0.4619 - val_loss: 0.8948 - val_accuracy: 0.4896\n",
            "Epoch 80/100\n",
            "7/7 [==============================] - 0s 17ms/step - loss: 1.0175 - accuracy: 0.4395 - val_loss: 0.8949 - val_accuracy: 0.4896\n",
            "Epoch 81/100\n",
            "7/7 [==============================] - 0s 28ms/step - loss: 1.0403 - accuracy: 0.4395 - val_loss: 0.8988 - val_accuracy: 0.4896\n",
            "Epoch 82/100\n",
            "7/7 [==============================] - 0s 27ms/step - loss: 1.0220 - accuracy: 0.4260 - val_loss: 0.9006 - val_accuracy: 0.5312\n",
            "Epoch 83/100\n",
            "7/7 [==============================] - 0s 21ms/step - loss: 0.9983 - accuracy: 0.4529 - val_loss: 0.9002 - val_accuracy: 0.4792\n",
            "Epoch 84/100\n",
            "7/7 [==============================] - 0s 16ms/step - loss: 1.0180 - accuracy: 0.4126 - val_loss: 0.8943 - val_accuracy: 0.4896\n",
            "Epoch 85/100\n",
            "7/7 [==============================] - 0s 18ms/step - loss: 1.0100 - accuracy: 0.4215 - val_loss: 0.8941 - val_accuracy: 0.4896\n",
            "Epoch 86/100\n",
            "7/7 [==============================] - 0s 12ms/step - loss: 1.0135 - accuracy: 0.4664 - val_loss: 0.8948 - val_accuracy: 0.5312\n",
            "Epoch 87/100\n",
            "7/7 [==============================] - 0s 17ms/step - loss: 0.9843 - accuracy: 0.5112 - val_loss: 0.8928 - val_accuracy: 0.4896\n",
            "Epoch 88/100\n",
            "7/7 [==============================] - 0s 14ms/step - loss: 1.0010 - accuracy: 0.4305 - val_loss: 0.8913 - val_accuracy: 0.5208\n",
            "Epoch 89/100\n",
            "7/7 [==============================] - 0s 22ms/step - loss: 1.0152 - accuracy: 0.4798 - val_loss: 0.8890 - val_accuracy: 0.5625\n",
            "Epoch 90/100\n",
            "7/7 [==============================] - 0s 16ms/step - loss: 1.0053 - accuracy: 0.4709 - val_loss: 0.8898 - val_accuracy: 0.4688\n",
            "Epoch 91/100\n",
            "7/7 [==============================] - 0s 14ms/step - loss: 1.0085 - accuracy: 0.4664 - val_loss: 0.8921 - val_accuracy: 0.4792\n",
            "Epoch 92/100\n",
            "7/7 [==============================] - 0s 12ms/step - loss: 1.0073 - accuracy: 0.4933 - val_loss: 0.8923 - val_accuracy: 0.4896\n",
            "Epoch 93/100\n",
            "7/7 [==============================] - 0s 11ms/step - loss: 1.0371 - accuracy: 0.4798 - val_loss: 0.8959 - val_accuracy: 0.5312\n",
            "Epoch 94/100\n",
            "7/7 [==============================] - 0s 12ms/step - loss: 0.9971 - accuracy: 0.4619 - val_loss: 0.8968 - val_accuracy: 0.5312\n",
            "Epoch 95/100\n",
            "7/7 [==============================] - 0s 17ms/step - loss: 1.0298 - accuracy: 0.4350 - val_loss: 0.9000 - val_accuracy: 0.5104\n",
            "Epoch 96/100\n",
            "7/7 [==============================] - 0s 14ms/step - loss: 1.0177 - accuracy: 0.4305 - val_loss: 0.8982 - val_accuracy: 0.4792\n",
            "Epoch 97/100\n",
            "7/7 [==============================] - 0s 19ms/step - loss: 1.0326 - accuracy: 0.4888 - val_loss: 0.8998 - val_accuracy: 0.4896\n",
            "Epoch 98/100\n",
            "7/7 [==============================] - 0s 17ms/step - loss: 0.9942 - accuracy: 0.5381 - val_loss: 0.8972 - val_accuracy: 0.4896\n",
            "Epoch 99/100\n",
            "7/7 [==============================] - 0s 18ms/step - loss: 1.0200 - accuracy: 0.4126 - val_loss: 0.8964 - val_accuracy: 0.4896\n",
            "Epoch 100/100\n",
            "7/7 [==============================] - 0s 10ms/step - loss: 1.0188 - accuracy: 0.4170 - val_loss: 0.8953 - val_accuracy: 0.4896\n"
          ],
          "name": "stdout"
        },
        {
          "output_type": "execute_result",
          "data": {
            "text/plain": [
              "<tensorflow.python.keras.callbacks.History at 0x7f2cc7a71780>"
            ]
          },
          "metadata": {
            "tags": []
          },
          "execution_count": 20
        }
      ]
    },
    {
      "cell_type": "code",
      "metadata": {
        "id": "dnGrWeTnnkwI"
      },
      "source": [
        ""
      ],
      "execution_count": 10,
      "outputs": []
    }
  ]
}